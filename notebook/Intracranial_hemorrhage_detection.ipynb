{
  "nbformat": 4,
  "nbformat_minor": 0,
  "metadata": {
    "colab": {
      "name": "Intracranial_hemorrhage_detection.ipynb",
      "provenance": [],
      "collapsed_sections": []
    },
    "kernelspec": {
      "name": "python3",
      "display_name": "Python 3"
    },
    "accelerator": "GPU"
  },
  "cells": [
    {
      "cell_type": "markdown",
      "metadata": {
        "id": "icthLzm_fm7I",
        "colab_type": "text"
      },
      "source": [
        "# [Intracranial hemorrhage detection](http://kaggle.com/c/rsna-intracranial-hemorrhage-detection)\n",
        "\n",
        "Intracranial hemorrhage, bleeding that occurs inside the cranium, is a serious health problem requiring rapid and often intensive medical treatment. For example, intracranial hemorrhages account for approximately 10% of strokes in the U.S., where stroke is the fifth-leading cause of death. Identifying the location and type of any hemorrhage present is a critical step in treating the patient.\n",
        "\n",
        "Diagnosis requires an urgent procedure. When a patient shows acute neurological symptoms such as severe headache or loss of consciousness, highly trained specialists review medical images of the patient’s cranium to look for the presence, location and type of hemorrhage. The process is complicated and often time consuming.\n",
        "\n",
        "The goal of this notebook is to build an algorithm to detect acute intracranial hemorrhage and [its subtypes](https://www.kaggle.com/c/rsna-intracranial-hemorrhage-detection/overview/hemorrhage-types).\n",
        "\n",
        "## [Launch this notebook in Google CoLab](https://colab.research.google.com/github/ihais-official/Intracranial_Hemorrhage_Detection/blob/master/notebook/Intracranial_hemorrhage_detection.ipynb)\n",
        "\n"
      ]
    },
    {
      "cell_type": "markdown",
      "metadata": {
        "id": "9FFTOaeayrpa",
        "colab_type": "text"
      },
      "source": [
        "# Step 00 -- Setting-up"
      ]
    },
    {
      "cell_type": "code",
      "metadata": {
        "id": "g-cPm97Affbs",
        "colab_type": "code",
        "colab": {}
      },
      "source": [
        "training_mode = True\n",
        "setup = True\n",
        "colab_mode = True\n",
        "verbose = True\n",
        "kaggle_kernelMode = False\n",
        "download_rawData = True"
      ],
      "execution_count": 0,
      "outputs": []
    },
    {
      "cell_type": "code",
      "metadata": {
        "id": "UqjL3ZmRhtLR",
        "colab_type": "code",
        "colab": {}
      },
      "source": [
        "MODEL_ID = 'seresnext50' #'seresnext101' #'EfficientNet-UNet' \n",
        "\n",
        "EPOCHS = 5\n",
        "BATCH_SIZE = 2\n",
        "CLASS_SIZE = 4\n",
        "IMG_HEIGHT = 256\n",
        "IMG_WIDTH = 1600 if MODEL_ID == 'seresnext101' else 512\n",
        "ORIG_IMG_HEIGHT = 256\n",
        "ORIG_IMG_WIDTH = 1600\n",
        "NUM_CHANNELS = 3\n",
        "\n",
        "FILTER_IMG_HEIGHT = 256\n",
        "FILTER_IMG_WIDTH = 256\n",
        "FILTER_THRESHOLD = 0.5\n",
        "FILTER_MODEL_ID = 'DenseNet-BC-201'\n",
        "\n",
        "DATASET_ID = 'intracranial_hemorrhage_2019'\n",
        "NOTEBOOK_ID = '{}_mask_{}'.format(DATASET_ID, MODEL_ID)\n",
        "BACKBONE = MODEL_ID\n",
        "HISTORY_FILE = 'history.json'\n",
        "\n",
        "GOOGLE_DRIVE = '/content/drive/'\n",
        "GOOGLE_DRIVE_DIR = '{}/My\\ Drive/'.format(GOOGLE_DRIVE)\n",
        "\n",
        "DATA_DIR = '/content/' if colab_mode else '../input/rsna-intracranial-hemorrhage-detection/' if kaggle_kernelMode else './'\n",
        "OUTPUT_DIR = DATA_DIR if colab_mode else './' \n",
        "\n",
        "WEIGHTS_DIR = DATA_DIR\n",
        "PRETRAINED_WEIGHTS_DIR = DATA_DIR\n",
        "CLASSIFIER_MODEL_DIR = PRETRAINED_WEIGHTS_DIR \n",
        "\n",
        "TRAIN_DATA_FILENAME = '{}_stage_1_train.zip'.format(DATASET_ID)\n",
        "TRAIN_DATA_LABEL_FILENAME = '{}_stage_1_train.csv.zip'.format(DATASET_ID)\n",
        "SAMPLE_SUBMISSION_FILENAME = '{}_stage_1_sample_submission.csv.zip'.format(DATASET_ID)\n",
        "\n",
        "TRAIN_DATA_DIR = '../input/rsna-intracranial-hemorrhage-detection/train_images' if kaggle_kernelMode else '{}/train/'.format(DATA_DIR)\n",
        "TRAIN_DIR = '../tmp/train/' if kaggle_kernelMode else '/tmp/train/'\n",
        "TEST_DATA_DIR = 'test_images' if kaggle_kernelMode else 'test'\n",
        "TEST_DIR = '{}/{}/'.format(DATA_DIR,\n",
        "                           TEST_DATA_DIR)\n",
        "\n",
        "BACKBONE_WEIGHTS_FILENAME = 'efficientnet-b4_imagenet_1000_notop.h5'\n",
        "BACKBONE_WEIGHTS = ('{}/{}'.format(BACKBONE_WEIGHTS_DIR,\n",
        "                                   BACKBONE_WEIGHTS_FILENAME)) if kaggle_kernelMode else 'ImageNet'\n",
        "\n",
        "PRETRAINED_WEIGHTS_FILENAME = '{}_mask_{}_weights.h5'.format(DATASET_ID,\n",
        "                                                             MODEL_ID)\n",
        "PRETRAINED_WEIGHTS = '{}/{}'.format(PRETRAINED_WEIGHTS_DIR,\n",
        "                                    PRETRAINED_WEIGHTS_FILENAME)\n",
        "\n",
        "CLASSIFIER_MODEL_FILENAME = '{}_missing_mask_predictions_{}_checkpoint.h5'.format(DATASET_ID,\n",
        "                                                                                  FILTER_MODEL_ID) #'severstal_steel_defect_missing_mask_predictions_DesneNet-BC-169_checkpoint.h5'\n",
        "CLASSIFIER_MODEL_WEIGHTS = '{}/{}'.format(CLASSIFIER_MODEL_DIR,\n",
        "                                          CLASSIFIER_MODEL_FILENAME)\n",
        "\n",
        "CHECKPOINT_FILENAME = '{}_checkpoint.h5'.format(NOTEBOOK_ID)\n",
        "CHECKPOINT_FILE = '{}/{}'.format(PRETRAINED_WEIGHTS_DIR,\n",
        "                                 CHECKPOINT_FILENAME)\n",
        "\n",
        "SAMPLE_SUBMISSION_FILENAME = 'sample_submission.csv' if kaggle_kernelMode else '{}_sample_submission.csv'.format(DATASET_ID)\n",
        "SUBMISSION_FILENAME = 'submission.csv' if kaggle_kernelMode else '{}_submission.csv'.format(NOTEBOOK_ID) \n",
        "SUBMISSION_FILE = '{}/{}'.format(DATA_DIR,\n",
        "                                 SUBMISSION_FILENAME)"
      ],
      "execution_count": 0,
      "outputs": []
    },
    {
      "cell_type": "code",
      "metadata": {
        "id": "FoNW3RUyht-J",
        "colab_type": "code",
        "outputId": "771dcda3-ef8d-4dc3-c661-6b6d07241f75",
        "colab": {
          "resources": {
            "http://localhost:8080/nbextensions/google.colab/files.js": {
              "data": "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",
              "ok": true,
              "headers": [
                [
                  "content-type",
                  "application/javascript"
                ]
              ],
              "status": 200,
              "status_text": ""
            }
          },
          "base_uri": "https://localhost:8080/",
          "height": 74
        }
      },
      "source": [
        "if setup and colab_mode and download_rawData:\n",
        "  from google.colab import files\n",
        "  files.upload()"
      ],
      "execution_count": 0,
      "outputs": [
        {
          "output_type": "display_data",
          "data": {
            "text/html": [
              "\n",
              "     <input type=\"file\" id=\"files-cd5f0a56-28e0-4cde-bdac-e9d092c88423\" name=\"files[]\" multiple disabled />\n",
              "     <output id=\"result-cd5f0a56-28e0-4cde-bdac-e9d092c88423\">\n",
              "      Upload widget is only available when the cell has been executed in the\n",
              "      current browser session. Please rerun this cell to enable.\n",
              "      </output>\n",
              "      <script src=\"/nbextensions/google.colab/files.js\"></script> "
            ],
            "text/plain": [
              "<IPython.core.display.HTML object>"
            ]
          },
          "metadata": {
            "tags": []
          }
        },
        {
          "output_type": "stream",
          "text": [
            "Saving kaggle.json to kaggle.json\n"
          ],
          "name": "stdout"
        }
      ]
    },
    {
      "cell_type": "code",
      "metadata": {
        "id": "r3r99UJmkMFw",
        "colab_type": "code",
        "colab": {}
      },
      "source": [
        "if setup and colab_mode:\n",
        "  from google.colab import drive\n",
        "  drive.mount(GOOGLE_DRIVE)"
      ],
      "execution_count": 0,
      "outputs": []
    },
    {
      "cell_type": "code",
      "metadata": {
        "id": "7k_yxOk_iR64",
        "colab_type": "code",
        "colab": {}
      },
      "source": [
        "if setup and colab_mode and download_rawData:\n",
        "  ! mkdir /root/.kaggle/\n",
        "  ! mv /content/kaggle.json /root/.kaggle/"
      ],
      "execution_count": 0,
      "outputs": []
    },
    {
      "cell_type": "code",
      "metadata": {
        "id": "O0UHn3HjiwOf",
        "colab_type": "code",
        "colab": {}
      },
      "source": [
        "if setup and download_rawData and not kaggle_kernelMode:\n",
        "  ! pip install --upgrade kaggle\n",
        "  ! kaggle competitions download -p {GOOGLE_DRIVE_DIR} -c rsna-intracranial-hemorrhage-detection"
      ],
      "execution_count": 0,
      "outputs": []
    },
    {
      "cell_type": "code",
      "metadata": {
        "id": "3beT_ChbkodF",
        "colab_type": "code",
        "outputId": "b73f2ab1-87d2-4c7a-8347-9249df102bd2",
        "colab": {
          "base_uri": "https://localhost:8080/",
          "height": 85
        }
      },
      "source": [
        "import time\n",
        "if setup and download_rawData and not kaggle_kernelMode:\n",
        "  print ('Loading raw data using Kaggle API into Google Drive...')\n",
        "  start = time.time()\n",
        "  ! mv /{DATA_DIR}/rsna-intracranial-hemorrhage-detection.zip {DATA_DIR}/{TRAIN_DATA_FILENAME}\n",
        "  ! cp {DATA_DIR}/{TRAIN_DATA_FILENAME} /{GOOGLE_DRIVE_DIR}/ \n",
        "  ! cp /{DATA_DIR}/{CHECKPOINT_FILENAME} /{GOOGLE_DRIVE_DIR}/\n",
        "  print ('Loaded data into Google Drive in: {} seconds ...'.format(round(time.time()-start),2))\n",
        "elif setup and colab_mode:\n",
        "  print ('Loading data and saved weights from Google drive ...')\n",
        "  start = time.time()\n",
        "  ! cp {GOOGLE_DRIVE_DIR}/{TRAIN_DATA_FILENAME} {DATA_DIR}/\n",
        "  ! cp {GOOGLE_DRIVE_DIR}/{CHECKPOINT_FILENAME} {DATA_DIR}/\n",
        "  ! cp {GOOGLE_DRIVE_DIR}/{CLASSIFIER_MODEL_FILENAME} {DATA_DIR}/\n",
        "  print ('Loaded data and saved weights from Google drive ...')\n",
        "  print ('Loaded data from Google Drive in: {} seconds ...'.format(round(time.time()-start),2))"
      ],
      "execution_count": 0,
      "outputs": [
        {
          "output_type": "stream",
          "text": [
            "Loading raw data using Kaggle API into Google Drive...\n",
            "^C\n",
            "cp: cannot stat '//content//intracranial_hemorrhage_2019_mask_seresnext50_checkpoint.h5': No such file or directory\n",
            "Loaded data into Google Drive in: 51 seconds ...\n"
          ],
          "name": "stdout"
        }
      ]
    },
    {
      "cell_type": "code",
      "metadata": {
        "id": "ropKkPaYCHOL",
        "colab_type": "code",
        "colab": {}
      },
      "source": [
        "if setup:\n",
        "  ! mkdir /{TRAIN_DATA_DIR}\n",
        "  ! unzip -q {DATA_DIR}/{TRAIN_DATA_FILENAME} -d /{TRAIN_DATA_DIR}"
      ],
      "execution_count": 0,
      "outputs": []
    },
    {
      "cell_type": "code",
      "metadata": {
        "id": "yWfJrhGzH3X8",
        "colab_type": "code",
        "colab": {}
      },
      "source": [
        "! mv {DATA_DIR}/{TRAIN_DATA_FILENAME} /{GOOGLE_DRIVE_DIR}"
      ],
      "execution_count": 0,
      "outputs": []
    },
    {
      "cell_type": "code",
      "metadata": {
        "id": "ITILwlr4OmPa",
        "colab_type": "code",
        "colab": {}
      },
      "source": [
        ""
      ],
      "execution_count": 0,
      "outputs": []
    }
  ]
}